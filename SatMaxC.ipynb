{
 "metadata": {
  "name": "WedMaxC"
 },
 "nbformat": 3,
 "worksheets": [
  {
   "cells": [
    {
     "cell_type": "markdown",
     "source": [
      "#Are Maxwell's Equations with Constraints a System of Hyperbolic PDEs?",
      "",
      "These are some notes I have written summarizing a little project to assess the effect of constraints on the hyperbolicity of Maxwell's equations. I use Sympy to facilitate the calculations in this IPython notebook.",
      "I begin with Maxwell's equations with prescribed sources . The form I use for these equations is the following standard from $\\bf{Gravitation}$ by Misner, Thorne, and Wheeler,1973 (MTW) notation:",
      "",
      "$$\\rm{\\partial_{a}\\mathbf{F}^{ab} = \\mathbf{J}^{b}}\\tag{1}$$",
      "",
      "and",
      "",
      "$$ \\partial_{a} \\sideset{^{*}}{^{ab}}{\\mathbf{F}} = 0 \\tag{2} $$",
      "",
      "where ${\\mathbf{F}}^{ab}$ is the Faraday tensor and",
      "",
      "$$\\sideset{^{*}}{^{ab}}{\\mathbf{F}} =\\frac{1}{2} \\mathbf{\\epsilon}^{abcd} \\mathbf{F}_{cd}$$",
      "",
      "is the dual of ${\\mathbf{F}}^{ab}$, and $\\mathbf{J^{b} = \\left( \\rho, J \\right)}$.",
      "",
      "In what follows I use units in which the speed of light is unity. The background ",
      "metric $\\mathbf{\\eta_{ab}}$ is that of Minkowski spacetime with signature +2. Coordinates here are ",
      "Cartesian with $x^{a} = \\left(t,x,y,z \\right) \\;$  and latin indices range from $0$ to $3$ but I reserve $i$,$j$,$k$, and $l$ for spatial indices running from $1$ to $3$.",
      "",
      "I implement the MTW definition of ${\\mathbf{F}}^{ab}$ and its dual, which I denote by ${\\mathbf{G}}^{ab}$, in Sympy as follows."
     ]
    },
    {
     "cell_type": "code",
     "collapsed": false,
     "input": [
      "from sympy import  symbols, Symbol",
      "import os,sys",
      "import numpy as np",
      "from sympy.matrices import *",
      "#from sympy.printing.latex import lat",
      "    ",
      "B_x, B_y, B_z, E_x, E_y, E_z = symbols('B_x B_y B_z E_x E_y E_z ',real=True)",
      "F =  Matrix( ((0,E_x,E_y,E_z),(-E_x,0,-B_z,B_y),(-E_y,B_z,0,-B_x),(-E_z,-B_y,B_x,0)) )",
      "G = Matrix( ((0,B_x,B_y,B_z),(-B_x,0,E_z,-E_y),(-B_y,-E_z,0,E_x),(-B_z,E_y,-E_x,0)) )",
      "gamE1, gamE2, gamE3  =symbols('\\gamma_E^1 \\gamma_E^2 \\gamma_E^3 ')",
      "gamB1, gamB2, gamB3 = symbols('\\gamma_B^{1} \\gamma+B^{2} \\gamma_B^{3}')",
      "muE1, muE2, muE3 = symbols('\\mu_E^1 \\mu_E^2 \\mu_E^3 ')",
      "muB1, muB2,muB3 = symbols('\\mu_B^1 \\mu_B^2 \\mu_B^3 ')",
      "lam = symbols('\\lambda')"
     ],
     "language": "python",
     "outputs": [],
     "prompt_number": 1
    },
    {
     "cell_type": "markdown",
     "source": [
      "Here is the Maxwell tensor $\\mathbf{F}$:"
     ]
    },
    {
     "cell_type": "code",
     "collapsed": false,
     "input": [
      "F"
     ],
     "language": "python",
     "outputs": [
      {
       "latex": [
        "$$\\left(\\begin{smallmatrix}0 & E_{x} & E_{y} & E_{z}\\\\- E_{x} & 0 & - B_{z} & B_{y}\\\\- E_{y} & B_{z} & 0 & - B_{x}\\\\- E_{z} & - B_{y} & B_{x} & 0\\end{smallmatrix}\\right)$$"
       ],
       "output_type": "pyout",
       "prompt_number": 2,
       "text": [
        "",
        "\u23a1 0     E\u2093   E_y   E_z\u23a4",
        "\u23a2                     \u23a5",
        "\u23a2-E\u2093    0    -B_z  B_y\u23a5",
        "\u23a2                     \u23a5",
        "\u23a2-E_y  B_z    0    -B\u2093\u23a5",
        "\u23a2                     \u23a5",
        "\u23a3-E_z  -B_y   B\u2093    0 \u23a6"
       ]
      }
     ],
     "prompt_number": 2
    },
    {
     "cell_type": "markdown",
     "source": [
      "And here is $\\mathbf{G} = \\mathbf{\\sideset{^{*}}{}F} :$"
     ]
    },
    {
     "cell_type": "code",
     "collapsed": false,
     "input": [
      "G"
     ],
     "language": "python",
     "outputs": [
      {
       "latex": [
        "$$\\left(\\begin{smallmatrix}0 & B_{x} & B_{y} & B_{z}\\\\- B_{x} & 0 & E_{z} & - E_{y}\\\\- B_{y} & - E_{z} & 0 & E_{x}\\\\- B_{z} & E_{y} & - E_{x} & 0\\end{smallmatrix}\\right)$$"
       ],
       "output_type": "pyout",
       "prompt_number": 3,
       "text": [
        "",
        "\u23a1 0     B\u2093   B_y  B_z \u23a4",
        "\u23a2                     \u23a5",
        "\u23a2-B\u2093    0    E_z  -E_y\u23a5",
        "\u23a2                     \u23a5",
        "\u23a2-B_y  -E_z   0    E\u2093 \u23a5",
        "\u23a2                     \u23a5",
        "\u23a3-B_z  E_y   -E\u2093   0  \u23a6"
       ]
      }
     ],
     "prompt_number": 3
    },
    {
     "cell_type": "markdown",
     "source": [
      "As is well known, one can go from $ \\mathbf{F} $ to $ \\mathbf{\\sideset{^{*}}{}F} $ with the substitution:",
      "",
      "$ \\mathbf{E} \\rightarrow \\mathbf{B} \\\\  $",
      "and",
      "$ \\mathbf{B} \\rightarrow \\mathbf{-E} $."
     ]
    },
    {
     "cell_type": "markdown",
     "source": [
      "Expanding the two  Maxwell's equations gives: ",
      "",
      "$$ \\partial_{0} \\mathbf{F}^{0b} + \\partial_{i} \\mathbf{F}^{ib} = \\mathbf{J}^{b}  $$",
      "",
      "and",
      "",
      "$$ \\partial_{0} \\mathbf{G}^{0b} + \\partial_{i} \\mathbf{G}^{ib} = 0. $$",
      "",
      "Note that for $\\rm{b = 0}$ the first Maxwell equation amounts to a statement of the Gauss constraint:",
      "",
      "$$ \\nabla \\cdot \\mathbf{E} = \\mathbf{J}^{0} $$",
      "",
      "and for $\\rm{b = 0}$ in the dual equation one gets the magnetic constraint:",
      "",
      "$$ \\nabla \\cdot \\mathbf{B} = \\mathbf{0}. $$",
      "",
      "The two constraints are propagated forward in time once they are satisfied initially. If ",
      "Maxwell's equations are satisfied at all times, this is easily",
      "eastablished by calculating the time  derivative of the two constraint equations and ",
      "using Maxwell's equations (not done here). I will return to the constraints ",
      "later when their satisfaction is incorporated in the question of the",
      "hyperbolicity of the Maxwell equation system below. ",
      "",
      "The question of the hyperbolicity of Maxwell's equations addressed here will be ",
      "done by focussing on the physical fields $\\mathbf{E}$ and $\\mathbf{B}$ without introducing ",
      "the vector and scalar potentials. Since Maxwell's equations are already",
      "first order PDE for $\\mathbf{E}$ and $\\mathbf{B}$, I avoid questions of ",
      "gauge invariance in the formulation.  It is though that this treatment in ",
      "terms of physical fields has the advantage of simplicity and can be done ",
      "without first promoting the formulation to second order wave equations which ",
      "are then recast as a system of first order PDE.",
      "",
      "I demonstrate the hyperbolicity of the usual formulation of Maxwell's equations first and ",
      "later redo the calculation adding constraint satisfaction conditions to the equations. ",
      "",
      "Note that the approach of adding constraints to the equations has useful purpose in ",
      "numerical formulations of Maxwell's equations.  In numerical discretizations of ",
      "Maxwell's equations, the constraints will not necessarily be satisfied later ",
      "even though they are satisfied initially. The imposition of constraints ",
      "as part of the numerical discretization can be quite useful in certain cases ",
      "in damping out constraint violations. The question is whether this can occur in a",
      "straightforward formulation like the preset one.",
      "",
      "For $ \\rm{b = j \\ne i} $ in the first and second Maxwell equations,   the usual ",
      "vector form of Maxwell's equations with sources is obtained, ",
      "which is not repeated here.",
      "",
      "First I  write the equations without the explicit incorporation of the constraints.  ",
      "The general form for the system of first order PDEs is:",
      "",
      "$$ \\partial_{0} \\mathbf{U} + \\mathbf{{A}^{i}}\\partial_{i} \\mathbf{U} = \\mathbf{S} ,$$",
      "",
      "where $ \\mathbf{U} =  \\left( E_{x},E_{y},E_{z},B_{x},B_{y},B_{z}\\right)$ is ",
      "a $\\rm{6 \\times 1} $ vector  and the $ \\mathbf{A}^{i} $ is a",
      "set of three $\\rm{6 \\times 6}$ matrices and $\\mathbf{S}$ is ",
      "the $6 \\times 1 $ vector of sources:",
      "",
      "$$ \\mathbf{S}  = (J_{x},J_{y},J_{z},0,0,0) . $$",
      "",
      "To help clarify the casting of Maxwell's equations in the form of a system of ",
      "six first order PDE, I write out Maxwell's equations in the form needed. To this ",
      "end:",
      "",
      "$$\\partial_{0} \\mathbf{F}^{0j} + \\partial_{i} \\mathbf{F}^{ij} = \\mathbf{J}^{j}$$",
      "",
      "which may be written",
      "",
      "$$\\partial_{0} \\mathbf{F}^{0j} + \\left(\\frac{\\partial\\mathbf{F}^{ij}}{\\partial{E_{k}}}  \\right)",
      "\\partial_{i} E^{k} + \\left(\\frac{\\partial\\mathbf{F}^{ij}}{\\partial{B_{k}}} \\right) \\partial_{i} B^{k} = J^{j} $$",
      "",
      "",
      "Similarly, the equation fo the dual of the Faraday tensor can be written",
      "",
      "$$\\partial_{0} \\mathbf{G}^{0j} + \\left(\\frac{\\partial\\mathbf{G}^{ij}}{\\partial{E_{k}}}  \\right)",
      "\\partial_{i} E^{k} + \\left(\\frac{\\partial\\mathbf{G}^{ij}}{\\partial{B_{k}}} \\right) \\partial_{i} B^{k} = 0 $$",
      "",
      "Now since $\\mathbf{F}^{0j} = E^{j}$ and $\\mathbf{G}^{0j} = B^{j}$ the ",
      "system may be written in terms of the vector $\\mathbf{U}:$",
      "",
      "$$ \\partial_{0} \\mathbf{U} + \\left(\\begin{smallmatrix}\\mathbf{FE} & \\mathbf{FB} \\\\\\\\",
      "\\mathbf{GE} &  \\mathbf{GB} ",
      "\\end{smallmatrix}\\right)^{i} \\partial_{i} \\mathbf{U} = \\mathbf{S}$$",
      "",
      "Thus I can identify",
      "",
      "$$ \\mathbf{A^{i}}  = \\left(\\begin{smallmatrix}\\mathbf{FE} & \\mathbf{FB} \\\\\\\\",
      "\\mathbf{GE} &  \\mathbf{GB} ",
      "\\end{smallmatrix}\\right)^{i} $$",
      "",
      "where $\\mathbf{FE} = \\partial_{\\mathbf{E}} \\mathbf{F^{ij}} $ and similarly for the other terms like $\\mathbf{FB}$ , $\\mathbf{GE}$ ",
      "and $\\mathbf{GB}$."
     ]
    },
    {
     "cell_type": "code",
     "collapsed": true,
     "input": [
      "Elec = G.extract([1,2,3],[1,2,3])",
      "Mag = F.extract([1,2,3],[1,2,3])"
     ],
     "language": "python",
     "outputs": [],
     "prompt_number": 4
    },
    {
     "cell_type": "markdown",
     "source": [
      "Next I compute these quantities using sympy. First I define Elec and Mag submatrices of Ax.",
      "Note that Elec is a $3 \\times 3$ matrix of components of $\\mathbf{G}^{ij}$ and Mag is a $3 \\times 3$ ",
      "matrix of components of of $\\mathbf{F}^{ij}$, both being antisymmetric. Next row vectors of ",
      "the components of the electric and magnetic fields  are defined."
     ]
    },
    {
     "cell_type": "code",
     "collapsed": true,
     "input": [
      "ve = Matrix( (E_x, E_y, E_z) ).T # made as a row vector"
     ],
     "language": "python",
     "outputs": [],
     "prompt_number": 5
    },
    {
     "cell_type": "code",
     "collapsed": true,
     "input": [
      "vb = Matrix( (B_x, B_y, B_z) ).T  # made as a row vector"
     ],
     "language": "python",
     "outputs": [],
     "prompt_number": 6
    },
    {
     "cell_type": "markdown",
     "source": [
      "Next I need to assemble the four $3 \\times 3$ matrices of the derivatives ",
      "of $\\mathbf{F}$ and $\\mathbf{G}$ with respect to the",
      "components of the electric and magnetic fields. This can be done ",
      "using the sympy jacobian() method:"
     ]
    },
    {
     "cell_type": "code",
     "collapsed": true,
     "input": [
      "FBx = Mag[0,:].jacobian(vb)",
      "FBy = Mag[1,:].jacobian(vb)",
      "FBz = Mag[2,:].jacobian(vb)",
      "",
      "GBx = Elec[0,:].jacobian(vb)",
      "GBy = Elec[1,:].jacobian(vb)",
      "GBz = Elec[2,:].jacobian(vb)"
     ],
     "language": "python",
     "outputs": [],
     "prompt_number": 7
    },
    {
     "cell_type": "code",
     "collapsed": true,
     "input": [
      "FEx = Mag[0,:].jacobian(ve)",
      "FEy = Mag[1,:].jacobian(ve)",
      "FEz = Mag[2,:].jacobian(ve)",
      "",
      "GEx = Elec[0,:].jacobian(ve)",
      "GEy = Elec[1,:].jacobian(ve)",
      "GEz = Elec[2,:].jacobian(ve)"
     ],
     "language": "python",
     "outputs": [],
     "prompt_number": 8
    },
    {
     "cell_type": "markdown",
     "source": [
      "Thus  for $\\mathbf{A}^{i}$ with $i=1,2,3$ respectively the three $6 \\times\\ 6$ matrices ",
      "$\\mathbf{A^x}$, $\\mathbf{A^y}$ and $\\mathbf{A^z} \\;$may be written:",
      "",
      "$ \\mathbf{A^{x}}  = \\left(\\begin{smallmatrix}\\mathbf{FEx} & \\mathbf{FBx} \\\\\\\\",
      "\\mathbf{GEx} &  \\mathbf{GBx} ",
      "\\end{smallmatrix}\\right), $",
      "$ \\mathbf{A^{y}}  = \\left(\\begin{smallmatrix}\\mathbf{FEy} & \\mathbf{FBy} \\\\\\\\",
      "\\mathbf{GEy} &  \\mathbf{GBy} ",
      "\\end{smallmatrix}\\right), $",
      "$ \\mathbf{A^{z}}  = \\left(\\begin{smallmatrix}\\mathbf{FEz} & \\mathbf{FBz} \\\\\\\\",
      "\\mathbf{GEz} &  \\mathbf{GBz} ",
      "\\end{smallmatrix}\\right) $",
      "",
      "Let's consider just $\\mathbf{A^x}$ in detail, leaving the other two for later.",
      "",
      "Define Axnp as the numpy array formed from the component matrices for Ax as follows:"
     ]
    },
    {
     "cell_type": "code",
     "collapsed": true,
     "input": [
      "Axnp = np.bmat([[FEx,FBx],[GEx,GBx]])"
     ],
     "language": "python",
     "outputs": [],
     "prompt_number": 9
    },
    {
     "cell_type": "markdown",
     "source": [
      "Then I make a sympy matrix from Axnp and call it Ax:"
     ]
    },
    {
     "cell_type": "code",
     "collapsed": false,
     "input": [
      "Ax = Matrix(Axnp)",
      "Btest = Ax",
      "Ax"
     ],
     "language": "python",
     "outputs": [
      {
       "latex": [
        "$$\\left(\\begin{smallmatrix}0 & 0 & 0 & 0 & 0 & 0\\\\0 & 0 & 0 & 0 & 0 & -1\\\\0 & 0 & 0 & 0 & 1 & 0\\\\0 & 0 & 0 & 0 & 0 & 0\\\\0 & 0 & 1 & 0 & 0 & 0\\\\0 & -1 & 0 & 0 & 0 & 0\\end{smallmatrix}\\right)$$"
       ],
       "output_type": "pyout",
       "prompt_number": 10,
       "text": [
        "",
        "\u23a10  0   0  0  0  0 \u23a4",
        "\u23a2                  \u23a5",
        "\u23a20  0   0  0  0  -1\u23a5",
        "\u23a2                  \u23a5",
        "\u23a20  0   0  0  1  0 \u23a5",
        "\u23a2                  \u23a5",
        "\u23a20  0   0  0  0  0 \u23a5",
        "\u23a2                  \u23a5",
        "\u23a20  0   1  0  0  0 \u23a5",
        "\u23a2                  \u23a5",
        "\u23a30  -1  0  0  0  0 \u23a6"
       ]
      }
     ],
     "prompt_number": 10
    },
    {
     "cell_type": "markdown",
     "source": [
      "And I note that $\\mathbf{A^x}$ is symmetric, as sympy confirms:"
     ]
    },
    {
     "cell_type": "code",
     "collapsed": false,
     "input": [
      "print Ax.is_symmetric()"
     ],
     "language": "python",
     "outputs": [
      {
       "output_type": "stream",
       "stream": "stdout",
       "text": [
        "True"
       ]
      }
     ],
     "prompt_number": 11
    },
    {
     "cell_type": "markdown",
     "source": [
      "Now it is well known that if a system of first order PDEs has a ",
      "symmetric $\\mathbf{A^x}$ which possesses real",
      "eigenvalues, then the system is symmetric hyperbolic.",
      "This is easily confirmed  for the Maxwell equations system using sympy: "
     ]
    },
    {
     "cell_type": "code",
     "collapsed": true,
     "input": [
      "lammults = Ax.berkowitz_eigenvals()"
     ],
     "language": "python",
     "outputs": [],
     "prompt_number": 12
    },
    {
     "cell_type": "markdown",
     "source": [
      "where lammults is to include the multiplicities:"
     ]
    },
    {
     "cell_type": "code",
     "collapsed": false,
     "input": [
      "print lammults"
     ],
     "language": "python",
     "outputs": [
      {
       "output_type": "stream",
       "stream": "stdout",
       "text": [
        "{1: 2, -1: 2, 0: 2}"
       ]
      }
     ],
     "prompt_number": 13
    },
    {
     "cell_type": "markdown",
     "source": [
      "Of course, this also can be read off from just stating the characteristic polynomial for $\\mathbf{A^x}$:"
     ]
    },
    {
     "cell_type": "code",
     "collapsed": false,
     "input": [
      "Ax.charpoly(lam).factor()"
     ],
     "language": "python",
     "outputs": [
      {
       "latex": [
        "$$\\lambda^{2} \\left(\\lambda -1\\right)^{2} \\left(\\lambda + 1\\right)^{2}$$"
       ],
       "output_type": "pyout",
       "png": "[encoded data removed]",
       "prompt_number": 14,
       "text": [
        "",
        "       2              2              2",
        "\\lambda \u22c5(\\lambda - 1) \u22c5(\\lambda + 1) "
       ]
      }
     ],
     "prompt_number": 14
    },
    {
     "cell_type": "markdown",
     "source": [
      "Note however that there are three doubly degenerate eigenvalues.",
      "This means that the Maxwell system in only weakly hyperbolic. Athough I will not perform",
      "the calculations for the other directions here, I think it is pretty clear ",
      "that $\\mathbf{A^y}$ and $\\mathbf{A^z}$ ",
      "are also weakly hyperbolic.  This is of course not a new result so ",
      "the notes up to this point are at best perhaps of pedagogical value.",
      "",
      "Next I consider the Maxwell equation system with the explicit addition ",
      "of penalty terms in the ",
      "equations which incorporate the Gauss and Magnetic constraints."
     ]
    },
    {
     "cell_type": "markdown",
     "source": [
      "## Including the Constraints in the Hyperbolic System",
      "Consider the Maxwell equations for $\\mathbf{F}$ and $\\mathbf{G}$ for the case",
      "when b = 0. As mentioned above, these constitute the constraints. Here I want ",
      "to recast the constraints in the same language as I did when writing the",
      "Maxwell system in the form:",
      "",
      "$$ \\partial_{0} \\mathbf{U} + \\left(\\begin{smallmatrix}\\mathbf{FE} & \\mathbf{FB} \\\\\\\\",
      "\\mathbf{GE} &  \\mathbf{GB} ",
      "\\end{smallmatrix}\\right)^{i} \\partial_{i} \\mathbf{U} = \\mathbf{S}$$",
      "",
      "For the first Maxwell equation with $b=0$ I get:",
      "",
      "$$\\partial_{0} \\mathbf{F}^{00} + \\partial_{i} \\mathbf{F}^{i0} = \\mathbf{J}^{0}$$",
      "",
      "Since $\\mathbf{F}^{ab}$ is antisymmetric in $a$ and $b$, the first term is identically zero and",
      "the equation has the form:",
      "",
      "$$\\partial_{i} \\mathbf{F}^{i0} = \\mathbf{J}^{0}$$",
      "",
      "",
      "Similarly, for the $\\mathbf{G}^{ab}$ equation a similar form obtains, except the right hand",
      "side is zero:",
      "",
      "$$\\partial_{i} \\mathbf{G}^{i0} = 0$$",
      "",
      "However, note that it is $\\mathbf{F}^{0i}$ which is the electric field and $\\mathbf{G}^{0i}$ ",
      "which is the magnetic field, so expressing the above in terms of the electric and magnetic",
      "fields yields:",
      "",
      "$$\\rm{ -\\partial_{i} \\mathbf{F}^{0i} = \\mathbf{J}^{0} }$$",
      "",
      "and ",
      "",
      "$$\\rm{-\\partial_{i} \\mathbf{G}^{0i} = 0 }$$",
      "",
      "It is this form of the constraints that needs to be incorporated into the evolution equations.",
      "",
      "The strategy of incorporation of the constraints is as follows.  If the constraints are ",
      "exactly satisfied, then adding multiples of them to  Maxwell's equations",
      "will have no effect. Thus I define the constraints:",
      "",
      "$$\\rm{ C_{E} = -\\partial_{i}F^{0i} - J^{0} }$$",
      "",
      "and",
      "",
      "$$ \\rm{C_{B} = -\\partial_{i}G^{0i}} $$",
      "",
      "",
      "The constraint equations may be written in the same form ",
      "as the evolution equations for the electric and magnetic evolution.  That is",
      "the Gauss constraint may be written",
      "",
      "$$\\rm{C_{E} = -\\left(\\frac{\\partial\\mathbf{F}^{0i}}{\\partial{E_{k}}}  \\right)",
      "\\partial_{i} \\mathbf{E}^{k} -\\left(\\frac{\\partial\\mathbf{F}^{0i}}{\\partial{B_{k}}} \\right) \\partial_{i} \\mathbf{B}^{k} -J^{0} }$$",
      "",
      "Similarly, the magnetic constraint may be written",
      "",
      "$$\\rm{C_{B} = -\\left(\\frac{\\partial\\mathbf{G}^{0i}}{\\partial{E_{k}}}  \\right)",
      "\\partial_{i} \\mathbf{E}^{k} -\\left(\\frac{\\partial\\mathbf{G}^{0i}}{\\partial{B_{k}}} \\right) \\partial_{i} \\mathbf{B}^{k} } $$",
      "",
      "However, since $\\rm{ \\mathbf{F}^{0i} = E^{i} } $ and $\\rm{\\mathbf{G}^{0i} = B^{i} } $ it follows that",
      "",
      "$$\\rm{ \\frac{\\partial\\mathbf{F}^{0i}}{\\partial{E_{k}}} = \\delta_{k}^{i} }$$",
      "$$\\rm{ \\frac{\\partial\\mathbf{F}^{0i}}{\\partial{B_{k}}} = 0_{k}^{i} }$$",
      "",
      "and",
      "",
      "$$\\rm{ \\frac{\\partial\\mathbf{G}^{0i}}{\\partial{E_{k}}} = 0_{k}^{i} }$$",
      "$$ \\rm{\\frac{\\partial\\mathbf{G}^{0i}}{\\partial{B_{k}}} = \\delta^{i}_{k} }$$",
      "",
      "Thus",
      "",
      "$$ \\rm{C_{E} = - {\\delta_{k}^{i}} \\partial_{i} E^{k} - 0_{k}^{i} \\partial_{i} B^{k} - J^{0} }$$",
      "",
      "and",
      "",
      "$$ \\rm{C_{B} =- 0_{k}^{i} \\partial_{i} E^{k} - {\\delta_{k}^{i}} \\partial_{i} B^{k} }$$",
      "",
      "Then multiplying the constraints by  arbitrary parameter vectors  and add them the left and right hand sides of the  Maxwell ",
      "equations I get:",
      "",
      "",
      "$$\\rm{\\partial_{0} \\mathbf{F}^{0j} + \\left(\\frac{\\partial\\mathbf{F}^{ij}}{\\partial{E_{k}}} - \\gamma_{E}^{j}\\delta_{k}^{i} \\right)",
      "\\partial_{i} E^{k} + \\left(\\frac{\\partial\\mathbf{F}^{ij}}{\\partial{B_{k}}} - \\mu_{E}^{j} 0_{k}^{i}\\right) \\partial_{i} B^{k} = J^{j} + \\gamma_{E}^{j} J^{0} }$$",
      "",
      "and",
      "",
      "$$\\rm{\\partial_{0} \\mathbf{G}^{0j} + \\left(\\frac{\\partial\\mathbf{G}^{ij}}{\\partial{E_{k}}} - \\gamma_{B}^{j}0_{k}^{i} \\right)",
      "\\partial_{i} E^{k} + \\left(\\frac{\\partial\\mathbf{G}^{ij}}{\\partial{B_{k}}} - \\mu_{B}^{j}\\delta_{k}^{i}\\right) \\partial_{i} B^{k} = 0 }$$",
      "",
      "where I have used $\\gamma_{E}^{j}$ and $\\mu_{E}^{j}$ in the evolution ",
      "equation for $\\mathbf{F}^{0j}$ and $\\gamma_{B}^{j}$ and $\\mu_{B}^{j}$ in the ",
      "evolution equation for $\\mathbf{G}^{0j}$.  These arbitrary parameters are ",
      "included for generality.  However,  from the above two equations it is seen",
      "that the inclusion of $\\gamma_B^{j}$ and $\\mu_{E}^{j}$ have no effect since they",
      "are multipied by the zero matrix. ",
      "",
      "Now using the values of the $\\mathbf{FE}$, $\\mathbf{FB}$ and $\\mathbf{GE}$, $\\mathbf{GB}$ gives",
      "",
      "",
      "",
      "$$\\rm{\\partial_{0} \\mathbf{F}^{0j} + \\left( -\\gamma_{E}^{j}\\delta_{k}^{i} \\right)",
      "\\partial_{i} E^{k} + \\left(\\frac{\\partial\\mathbf{F}^{ij}}{\\partial{B_{k}}} \\right) \\partial_{i} B^{k} = J^{j} + \\gamma_{E}^{j} J^{0} }$$",
      "",
      "",
      "$$\\rm{\\partial_{0} \\mathbf{G}^{0j} + \\left(\\frac{\\partial\\mathbf{G}^{ij}}{\\partial{E_{k}}} \\right)",
      "\\partial_{i} E^{k} + \\left( -\\mu_{B}^{j}\\delta_{k}^{i}\\right) \\partial_{i} B^{k} = 0 }$$"
     ]
    },
    {
     "cell_type": "markdown",
     "source": [
      "Now I assemble the $6 \\times 6$ revised Ax matrix from the two ",
      "equations above. First copy the original",
      "Ax to atest."
     ]
    },
    {
     "cell_type": "code",
     "collapsed": true,
     "input": [
      "atest = Ax"
     ],
     "language": "python",
     "outputs": [],
     "prompt_number": 15
    },
    {
     "cell_type": "markdown",
     "source": [
      "I now modify atest to include the new constraint-related terms."
     ]
    },
    {
     "cell_type": "code",
     "collapsed": true,
     "input": [
      "",
      "atest[0,0] = -gamE1",
      "atest[1,0] = -gamE2",
      "atest[2,0] = -gamE3",
      "atest[3,3] = -muB1",
      "atest[4,3] = -muB2",
      "atest[5,3] = -muB3"
     ],
     "language": "python",
     "outputs": [],
     "prompt_number": 16
    },
    {
     "cell_type": "code",
     "collapsed": false,
     "input": [
      "atest"
     ],
     "language": "python",
     "outputs": [
      {
       "latex": [
        "$$\\left(\\begin{smallmatrix}- \\gamma^{1}_{E} & 0 & 0 & 0 & 0 & 0\\\\- \\gamma^{2}_{E} & 0 & 0 & 0 & 0 & -1\\\\- \\gamma^{3}_{E} & 0 & 0 & 0 & 1 & 0\\\\0 & 0 & 0 & - \\mu^{1}_{B} & 0 & 0\\\\0 & 0 & 1 & - \\mu^{2}_{B} & 0 & 0\\\\0 & -1 & 0 & - \\mu^{3}_{B} & 0 & 0\\end{smallmatrix}\\right)$$"
       ],
       "output_type": "pyout",
       "prompt_number": 17,
       "text": [
        "",
        "\u23a1-\\gamma^1_E  0   0     0      0  0 \u23a4",
        "\u23a2                                   \u23a5",
        "\u23a2-\\gamma^2_E  0   0     0      0  -1\u23a5",
        "\u23a2                                   \u23a5",
        "\u23a2-\\gamma^3_E  0   0     0      1  0 \u23a5",
        "\u23a2                                   \u23a5",
        "\u23a2     0       0   0  -\\mu^1_B  0  0 \u23a5",
        "\u23a2                                   \u23a5",
        "\u23a2     0       0   1  -\\mu^2_B  0  0 \u23a5",
        "\u23a2                                   \u23a5",
        "\u23a3     0       -1  0  -\\mu^3_B  0  0 \u23a6"
       ]
      }
     ],
     "prompt_number": 17
    },
    {
     "cell_type": "markdown",
     "source": [
      "Keep a copy of the original Ax:"
     ]
    },
    {
     "cell_type": "code",
     "collapsed": true,
     "input": [
      "Axcopy = Ax"
     ],
     "language": "python",
     "outputs": [],
     "prompt_number": 18
    },
    {
     "cell_type": "markdown",
     "source": [
      "Rename atest to Ax:"
     ]
    },
    {
     "cell_type": "code",
     "collapsed": true,
     "input": [
      "Ax = atest"
     ],
     "language": "python",
     "outputs": [],
     "prompt_number": 19
    },
    {
     "cell_type": "markdown",
     "source": [
      "What is the effect of the introduction of the 6 parameters on the symmetry of Ax?"
     ]
    },
    {
     "cell_type": "code",
     "collapsed": false,
     "input": [
      "print Ax.is_symmetric()"
     ],
     "language": "python",
     "outputs": [
      {
       "output_type": "stream",
       "stream": "stdout",
       "text": [
        "False"
       ]
      }
     ],
     "prompt_number": 20
    },
    {
     "cell_type": "markdown",
     "source": [
      "So it is clear that the introduction of the parameters associated with the constraints",
      "has destroyed the symmetry of the new Ax matrix.  What about the eigenvalues? ",
      "The original eigenvalues",
      "were found to be all real.  Since I now have a symbolic matrix I make use of ",
      "the sympy berkowitz_eigenvals",
      "function:"
     ]
    },
    {
     "cell_type": "code",
     "collapsed": true,
     "input": [
      "evalsplus = Ax.berkowitz_eigenvals()"
     ],
     "language": "python",
     "outputs": [],
     "prompt_number": 21
    },
    {
     "cell_type": "code",
     "collapsed": false,
     "input": [
      "evalsplus"
     ],
     "language": "python",
     "outputs": [
      {
       "output_type": "pyout",
       "prompt_number": 22,
       "text": [
        "{-1: 2, 1: 2, -\\gamma^1_E: 1, -\\mu^1_B: 1}"
       ]
      }
     ],
     "prompt_number": 22
    },
    {
     "cell_type": "markdown",
     "source": [
      "Thus if $\\gamma^{1}_E$ and $\\mu^{1}_B$ are real, then all eigenvalues are real.",
      "Another way to see this is to use sympy's charpoly() function and factor it:"
     ]
    },
    {
     "cell_type": "code",
     "collapsed": false,
     "input": [
      "Ax.charpoly(lam).factor()"
     ],
     "language": "python",
     "outputs": [
      {
       "latex": [
        "$$\\left(\\gamma^{1}_{E} + \\lambda\\right) \\left(\\lambda -1\\right)^{2} \\left(\\lambda + 1\\right)^{2} \\left(\\lambda + \\mu^{1}_{B}\\right)$$"
       ],
       "output_type": "pyout",
       "png": "[encoded data removed]",
       "prompt_number": 23,
       "text": [
        "",
        "                                    2              2                    ",
        "(\\gamma^1_E + \\lambda)\u22c5(\\lambda - 1) \u22c5(\\lambda + 1) \u22c5(\\lambda + \\mu^1_B)"
       ]
      }
     ],
     "prompt_number": 23
    },
    {
     "cell_type": "markdown",
     "source": [
      "There are six  eigenvalues: a double -1, a double ",
      "+1, a -$\\gamma_E^{1}$ and a -$\\mu_{B}^{1} .$ ",
      "The issue with the modified Ax matrix not being symmetric  can in principle be delt with by ",
      "applying a $\\bf{symmetrizer}\\;$ to the new Ax matrix. That is,  find a symmetric matrix  S such ",
      "that $ S A^{x}$ is symmetric. I will postpone further discussion of this until later.",
      "",
      "It is seen, then, that as long as the parameters $\\gamma_{E}^{1}$ and $\\mu_{B}^{1}$ are real, all the",
      "eigenvalues of the modified Ax matrix are real  the modified Maxwell system is hyperbolic.",
      "Actually is is only weakly hyperbolic as it stands. Whether it can be transformed into a symmetric",
      "hyperbolic system depends on the existence of a symmetrizer.  "
     ]
    },
    {
     "cell_type": "markdown",
     "source": [
      "##Evolution of the Constraints"
     ]
    },
    {
     "cell_type": "markdown",
     "source": [
      "Here I take a look at the evolution of the constraints $C_{E}$ amd $C_{B}$. To this end I calculate the",
      "time derivative of the two constraints using the modified Maxwell system.  The question is whether",
      "there are further conditions needed on the parameters.",
      "",
      "From the definitions of $C_{E}$ amd $C_{B}$ I take $\\partial_{0} C_{E}$ and $\\partial_{0} C_{B}$ and use",
      "the modified Maxwell system. The results are:",
      "",
      "$$\\rm{\\partial_{0} C_{E} = \\gamma_{E}^{k} \\partial_{k} C_{E} + \\mu_{E}^{k} \\partial_{k} C_{B} -\\left( \\partial_{0} J^{0}",
      "+ \\partial_{k} J^{k} \\right)} $$",
      "",
      "and ",
      "",
      "$$ \\rm{\\partial_{0} C_{B} = \\gamma_{B}^{k} \\partial_{k} C_{E} + \\mu_{B}^{k} \\partial_{k} C_{B}} $$",
      "",
      "Note that if charge is conserved, then",
      "",
      "$$ \\rm{\\partial_{0} J^{0}",
      "+ \\partial_{k} J^{k} = 0} $$",
      "",
      "In a computer simulation in which there is a charge distribution which is time dependent, then perhaps",
      "some of the charges might escape the computational volume, in which case the net charge might not be conserved",
      "for all times.  Thus for generality I keep the four-divergence of the four-current as is in",
      "the evolution equation for $C_{E}$.",
      "",
      "Note that except for the case where the computational volume loses or gains charge, the two constraints",
      "evolve by mixing when there is a spatial dependence of any violations of the constraints.  ",
      "",
      "The two equations for the evolution of the constraints may be conveniently written in the following form:",
      "",
      "$$\\rm{\\partial_{0} \\mathbf{V} + \\mathbf{C}^{k} \\partial_{k} \\mathbf{V} = \\mathbf{T}, }$$",
      "",
      "where  $\\mathbf{V} = \\left( C_{E}\\;, C_{B} \\right)$ and ",
      "",
      "$$ {\\mathbf{C}^{k}}  = \\left(\\begin{smallmatrix} -\\gamma_{E}^{k} & -\\mu_{E}^{k} \\\\\\\\",
      "-\\gamma_{B}^{k} &  -\\mu_{B}^{k} ",
      "\\end{smallmatrix}\\right) $$  ",
      "and ",
      "",
      "$$\\rm{\\mathbf{T} = \\left( -\\left( \\partial_{0} J^{0}",
      "+ \\partial_{k} J^{k}\\right) , 0 \\right)^{T}}$$",
      "",
      "I note that the eigenvalues of $\\mathbf{C}^{k}$ are real for real values of the parameters. Thus",
      "the constraint subsystem is hyperbolic. Whether it is symmetric needs to be investigated later.",
      "",
      "",
      "Here I summarize the complete evolution system for the constraint-modified Maxwell equations:",
      "",
      "$$ \\rm{\\partial_{0} \\mathbf{F}^{0b} + \\partial_{i} \\mathbf{F}^{ib}  = \\mathbf{J}^{b}  -\\gamma_{E}^{k} C_{E} ",
      "- \\mu_{E}^{k} C_{B}}$$",
      "",
      "",
      "",
      "$$ \\rm{\\partial_{0} \\mathbf{G}^{0b} + \\partial_{i} \\mathbf{G}^{ib} = -\\gamma_{B}^{k} C_{E} ",
      "-\\mu_{B}^{k} C_{B} } $$",
      "",
      "",
      "$$\\rm{\\partial_{0} C_{E} = \\gamma_{E}^{k} \\partial_{k} C_{E} + \\mu_{E}^{k} \\partial_{k} C_{B} -\\left( \\partial_{0} J^{0}",
      "+ \\partial_{k} J^{k} \\right)} $$",
      "",
      "",
      "",
      "$$ \\rm{\\partial_{0} C_{B} = \\gamma_{B}^{k} \\partial_{k} C_{E} + \\mu_{B}^{k} \\partial_{k} C_{B} }$$",
      "",
      "Note also that only $\\gamma_{E}^{k}$ and $\\mu_{B}^{k}$ are involved in the issue of the ",
      "hyperbolicity of the modified Ax matrix.  Thus if I put those two sets of parameters equal to ",
      "zero, the above matrix $\\mathbf{C}^{k}$ is symmetric and so the constraint subsystem is symmetric",
      "hyperbolic.  However, I shall not make this assumption at this time, leaving this possibility for",
      "later consideration.",
      "",
      "The evolution equations for $C_{E}$ and $C_{B}$ listed above are in general a system of advection equations ",
      "if charge is conserved.  In this case it is clear that the parameters $\\gamma_{E}^{k}$ and $\\mu_{B}^{k}$ are",
      "the speeds of the advection.  This means that in general these two evolution equations do not develop",
      "decaying behavior in time if they have non-zero values and vary in space.  Thus it seems that in the modified",
      "Maxwell system we can not choose the parameters to promote damping of constraint violations. Rather",
      "with non-zero values of the parameters the constraint fields only propagate through space at the speeds",
      "equal to the parameter values.  ",
      "",
      "I should say that I presently believe that arbitrary non-zero values of the parameters are not allowed, since",
      "if the parameter values exceed 1 in magnitude, any existing constraint violation would necessarily",
      "propagate faster than light speed.  Hence the constraint fields would not stay inside the forward light",
      "cone. Said another way, the constraint fields would not stay in the domain of dependence of Minkowski",
      "spacetime.  ",
      "",
      "Another issue which should be addressed is the propagation of the constraint fields which strike ",
      "the outer boundary of the computational domain.  If constraint violations are allowed to strike",
      "the outer boundary then in general there will be reflections of the constraint fields back into",
      "the interior, then affecting the evolution of the electric and magnetic fields in the interior.  ",
      "This also needs more study."
     ]
    },
    {
     "cell_type": "code",
     "collapsed": false,
     "input": [
      "atest.is_diagonalizable()"
     ],
     "language": "python",
     "outputs": [
      {
       "output_type": "pyout",
       "prompt_number": 24,
       "text": [
        "True"
       ]
      }
     ],
     "prompt_number": 24
    },
    {
     "cell_type": "markdown",
     "source": [
      "Here is the matrix $C^{x}$ in sympy:"
     ]
    },
    {
     "cell_type": "code",
     "collapsed": false,
     "input": [
      "C = Matrix(2,2,[-gamE1,-muE1,-gamB1,-muB1])",
      "C"
     ],
     "language": "python",
     "outputs": [
      {
       "latex": [
        "$$\\left(\\begin{smallmatrix}- \\gamma^{1}_{E} & - \\mu^{1}_{E}\\\\- \\gamma^{{1}}_{B} & - \\mu^{1}_{B}\\end{smallmatrix}\\right)$$"
       ],
       "output_type": "pyout",
       "prompt_number": 25,
       "text": [
        "",
        "\u23a1 -\\gamma^1_E   -\\mu^1_E\u23a4",
        "\u23a2                       \u23a5",
        "\u23a3-\\gamma^{1}_B  -\\mu^1_B\u23a6"
       ]
      }
     ],
     "prompt_number": 25
    },
    {
     "cell_type": "markdown",
     "source": [
      "What are the eigenvalues of $C^{x}$?  It is a simple matter to find out."
     ]
    },
    {
     "cell_type": "code",
     "collapsed": false,
     "input": [
      "clam1, clam2 =C.berkowitz_eigenvals()"
     ],
     "language": "python",
     "outputs": [],
     "prompt_number": 26
    },
    {
     "cell_type": "markdown",
     "source": []
    },
    {
     "cell_type": "markdown",
     "source": [
      "Here are latex rendered eigenvalues of $C^{x}$:",
      "",
      "$$- \\frac{1}{2} \\gamma_{E}^{1} - \\frac{1}{2} \\mu_{B}^{1} \\pm \\frac{1}{2} \\sqrt{ 4 \\gamma_{B}^{1} \\mu_{E}^{1} + {\\gamma_{E}^{1}}^{2}  - 2 \\gamma_{E}^{1} \\mu_{B}^{1} + {\\mu_B^{1}}^{2}} ",
      "$$",
      "",
      "and we can see that the argument of the square root is positive for ",
      "",
      "$$ \\gamma_B^{1} \\mu_E^{1} \\geq 0 $$",
      "",
      "Thus the eigenvalues are real and the $C^{x}$ system of constraint violations is hyperbolic."
     ]
    },
    {
     "cell_type": "markdown",
     "source": []
    },
    {
     "cell_type": "markdown",
     "source": [
      "Next I  investigate the issue of the symmetrizer matrix for the modified Maxwell system.  I must find the (possibly non-unique) $6 \\times 6$ symmetric matrix which has the property that $S A^{x}$ is symmetric.  My first attempt is to",
      "do it via brute force using sympy.  This is something I have not done before so this will be a learning experience. ",
      "",
      "To begin I create "
     ]
    },
    {
     "cell_type": "code",
     "collapsed": false,
     "input": [
      "prefix = 's'",
      "sep = ''",
      "shape = (6,6)",
      "slabel = np.empty(shape,dtype=object)",
      "for j in range(6):",
      "    for i in range(6):",
      "       slabel[i][j] = Symbol('%s%s%s%s' % (prefix,sep,str(i),str(j)))",
      "      ",
      "",
      "        "
     ],
     "language": "python",
     "outputs": [],
     "prompt_number": 27
    },
    {
     "cell_type": "code",
     "collapsed": false,
     "input": [
      "prefix = 's'",
      "sep = '_'",
      "shape = (6,6)",
      "slat = np.empty(shape,dtype=object)",
      "for j in range(6):",
      "    for i in range(6):",
      "       slat[i][j] = Symbol('%s%s%s%s' % (prefix,sep,str(i),str(j)))",
      "        ",
      "        "
     ],
     "language": "python",
     "outputs": [],
     "prompt_number": 28
    },
    {
     "cell_type": "code",
     "collapsed": false,
     "input": [
      "Slabel = str(flatten(slabel))[1:-1]",
      "Slat = str(flatten(slat))[1:-1]"
     ],
     "language": "python",
     "outputs": [],
     "prompt_number": 29
    },
    {
     "cell_type": "code",
     "collapsed": false,
     "input": [
      "\"%s=symbols('%s')\" % (Slat,Slat)"
     ],
     "language": "python",
     "outputs": [
      {
       "output_type": "pyout",
       "prompt_number": 30,
       "text": [
        "",
        "s_00, s_01, s_02, s_03, s_04, s_05, s_10, s_11, s_12, s_13, s_14, s_15, s_20, ",
        "s_21, s_22, s_23, s_24, s_25, s_30, s_31, s_32, s_33, s_34, s_35, s_40, s_41, ",
        "s_42, s_43, s_44, s_45, s_50, s_51, s_52, s_53, s_54, s_55=symbols('s_00, s_01",
        ", s_02, s_03, s_04, s_05, s_10, s_11, s_12, s_13, s_14, s_15, s_20, s_21, s_22",
        ", s_23, s_24, s_25, s_30, s_31, s_32, s_33, s_34, s_35, s_40, s_41, s_42, s_43",
        ", s_44, s_45, s_50, s_51, s_52, s_53, s_54, s_55')"
       ]
      }
     ],
     "prompt_number": 30
    },
    {
     "cell_type": "code",
     "collapsed": false,
     "input": [
      "exec(_)"
     ],
     "language": "python",
     "outputs": [],
     "prompt_number": 31
    },
    {
     "cell_type": "code",
     "collapsed": false,
     "input": [
      "symlist = (s_00, s_01, s_02, s_03, s_04, s_05, s_01, s_11, s_12, s_13, s_14, s_15, s_02, s_12, s_22, s_23, s_24, s_25, s_03, s_13, s_23, s_33, s_34, s_35, s_04, s_14, s_24, s_34, s_44, s_45, s_05, s_15, s_25, s_35, s_45, s_55)"
     ],
     "language": "python",
     "outputs": [],
     "prompt_number": 32
    },
    {
     "cell_type": "code",
     "collapsed": false,
     "input": [
      "Symmatrix = Matrix(6,6,symlist)"
     ],
     "language": "python",
     "outputs": [],
     "prompt_number": 33
    },
    {
     "cell_type": "code",
     "collapsed": false,
     "input": [
      "Symmatrix"
     ],
     "language": "python",
     "outputs": [
      {
       "latex": [
        "$$\\left(\\begin{smallmatrix}s_{00} & s_{01} & s_{02} & s_{03} & s_{04} & s_{05}\\\\s_{01} & s_{11} & s_{12} & s_{13} & s_{14} & s_{15}\\\\s_{02} & s_{12} & s_{22} & s_{23} & s_{24} & s_{25}\\\\s_{03} & s_{13} & s_{23} & s_{33} & s_{34} & s_{35}\\\\s_{04} & s_{14} & s_{24} & s_{34} & s_{44} & s_{45}\\\\s_{05} & s_{15} & s_{25} & s_{35} & s_{45} & s_{55}\\end{smallmatrix}\\right)$$"
       ],
       "output_type": "pyout",
       "prompt_number": 34,
       "text": [
        "",
        "\u23a1s\u2080\u2080  s\u2080\u2081  s\u2080\u2082  s\u2080\u2083  s\u2080\u2084  s\u2080\u2085\u23a4",
        "\u23a2                            \u23a5",
        "\u23a2s\u2080\u2081  s\u2081\u2081  s\u2081\u2082  s\u2081\u2083  s\u2081\u2084  s\u2081\u2085\u23a5",
        "\u23a2                            \u23a5",
        "\u23a2s\u2080\u2082  s\u2081\u2082  s\u2082\u2082  s\u2082\u2083  s\u2082\u2084  s\u2082\u2085\u23a5",
        "\u23a2                            \u23a5",
        "\u23a2s\u2080\u2083  s\u2081\u2083  s\u2082\u2083  s\u2083\u2083  s\u2083\u2084  s\u2083\u2085\u23a5",
        "\u23a2                            \u23a5",
        "\u23a2s\u2080\u2084  s\u2081\u2084  s\u2082\u2084  s\u2083\u2084  s\u2084\u2084  s\u2084\u2085\u23a5",
        "\u23a2                            \u23a5",
        "\u23a3s\u2080\u2085  s\u2081\u2085  s\u2082\u2085  s\u2083\u2085  s\u2084\u2085  s\u2085\u2085\u23a6"
       ]
      }
     ],
     "prompt_number": 34
    },
    {
     "cell_type": "code",
     "collapsed": false,
     "input": [
      "Symmatrix.is_symmetric()"
     ],
     "language": "python",
     "outputs": [
      {
       "output_type": "pyout",
       "prompt_number": 35,
       "text": [
        "True"
       ]
      }
     ],
     "prompt_number": 35
    },
    {
     "cell_type": "code",
     "collapsed": false,
     "input": [
      "Symmatrix* Ax"
     ],
     "language": "python",
     "outputs": [
      {
       "latex": [
        "$$\\left(\\begin{smallmatrix}- \\gamma^{1}_{E} s_{00} - \\gamma^{2}_{E} s_{01} - \\gamma^{3}_{E} s_{02} & - s_{05} & s_{04} & - \\mu^{1}_{B} s_{03} - \\mu^{2}_{B} s_{04} - \\mu^{3}_{B} s_{05} & s_{02} & - s_{01}\\\\- \\gamma^{1}_{E} s_{01} - \\gamma^{2}_{E} s_{11} - \\gamma^{3}_{E} s_{12} & - s_{15} & s_{14} & - \\mu^{1}_{B} s_{13} - \\mu^{2}_{B} s_{14} - \\mu^{3}_{B} s_{15} & s_{12} & - s_{11}\\\\- \\gamma^{1}_{E} s_{02} - \\gamma^{2}_{E} s_{12} - \\gamma^{3}_{E} s_{22} & - s_{25} & s_{24} & - \\mu^{1}_{B} s_{23} - \\mu^{2}_{B} s_{24} - \\mu^{3}_{B} s_{25} & s_{22} & - s_{12}\\\\- \\gamma^{1}_{E} s_{03} - \\gamma^{2}_{E} s_{13} - \\gamma^{3}_{E} s_{23} & - s_{35} & s_{34} & - \\mu^{1}_{B} s_{33} - \\mu^{2}_{B} s_{34} - \\mu^{3}_{B} s_{35} & s_{23} & - s_{13}\\\\- \\gamma^{1}_{E} s_{04} - \\gamma^{2}_{E} s_{14} - \\gamma^{3}_{E} s_{24} & - s_{45} & s_{44} & - \\mu^{1}_{B} s_{34} - \\mu^{2}_{B} s_{44} - \\mu^{3}_{B} s_{45} & s_{24} & - s_{14}\\\\- \\gamma^{1}_{E} s_{05} - \\gamma^{2}_{E} s_{15} - \\gamma^{3}_{E} s_{25} & - s_{55} & s_{45} & - \\mu^{1}_{B} s_{35} - \\mu^{2}_{B} s_{45} - \\mu^{3}_{B} s_{55} & s_{25} & - s_{15}\\end{smallmatrix}\\right)$$"
       ],
       "output_type": "pyout",
       "prompt_number": 36,
       "text": [
        "",
        "\u23a1-\\gamma^1_E\u22c5s\u2080\u2080 - \\gamma^2_E\u22c5s\u2080\u2081 - \\gamma^3_E\u22c5s\u2080\u2082  -s\u2080\u2085  s\u2080\u2084  -\\mu^1_B\u22c5s\u2080\u2083 - ",
        "\u23a2                                                                             ",
        "\u23a2-\\gamma^1_E\u22c5s\u2080\u2081 - \\gamma^2_E\u22c5s\u2081\u2081 - \\gamma^3_E\u22c5s\u2081\u2082  -s\u2081\u2085  s\u2081\u2084  -\\mu^1_B\u22c5s\u2081\u2083 - ",
        "\u23a2                                                                             ",
        "\u23a2-\\gamma^1_E\u22c5s\u2080\u2082 - \\gamma^2_E\u22c5s\u2081\u2082 - \\gamma^3_E\u22c5s\u2082\u2082  -s\u2082\u2085  s\u2082\u2084  -\\mu^1_B\u22c5s\u2082\u2083 - ",
        "\u23a2                                                                             ",
        "\u23a2-\\gamma^1_E\u22c5s\u2080\u2083 - \\gamma^2_E\u22c5s\u2081\u2083 - \\gamma^3_E\u22c5s\u2082\u2083  -s\u2083\u2085  s\u2083\u2084  -\\mu^1_B\u22c5s\u2083\u2083 - ",
        "\u23a2                                                                             ",
        "\u23a2-\\gamma^1_E\u22c5s\u2080\u2084 - \\gamma^2_E\u22c5s\u2081\u2084 - \\gamma^3_E\u22c5s\u2082\u2084  -s\u2084\u2085  s\u2084\u2084  -\\mu^1_B\u22c5s\u2083\u2084 - ",
        "\u23a2                                                                             ",
        "\u23a3-\\gamma^1_E\u22c5s\u2080\u2085 - \\gamma^2_E\u22c5s\u2081\u2085 - \\gamma^3_E\u22c5s\u2082\u2085  -s\u2085\u2085  s\u2084\u2085  -\\mu^1_B\u22c5s\u2083\u2085 - ",
        "",
        "\\mu^2_B\u22c5s\u2080\u2084 - \\mu^3_B\u22c5s\u2080\u2085  s\u2080\u2082  -s\u2080\u2081\u23a4",
        "                                    \u23a5",
        "\\mu^2_B\u22c5s\u2081\u2084 - \\mu^3_B\u22c5s\u2081\u2085  s\u2081\u2082  -s\u2081\u2081\u23a5",
        "                                    \u23a5",
        "\\mu^2_B\u22c5s\u2082\u2084 - \\mu^3_B\u22c5s\u2082\u2085  s\u2082\u2082  -s\u2081\u2082\u23a5",
        "                                    \u23a5",
        "\\mu^2_B\u22c5s\u2083\u2084 - \\mu^3_B\u22c5s\u2083\u2085  s\u2082\u2083  -s\u2081\u2083\u23a5",
        "                                    \u23a5",
        "\\mu^2_B\u22c5s\u2084\u2084 - \\mu^3_B\u22c5s\u2084\u2085  s\u2082\u2084  -s\u2081\u2084\u23a5",
        "                                    \u23a5",
        "\\mu^2_B\u22c5s\u2084\u2085 - \\mu^3_B\u22c5s\u2085\u2085  s\u2082\u2085  -s\u2081\u2085\u23a6"
       ]
      }
     ],
     "prompt_number": 36
    },
    {
     "cell_type": "code",
     "collapsed": true,
     "input": [
      "SAx = _"
     ],
     "language": "python",
     "outputs": [],
     "prompt_number": 37
    },
    {
     "cell_type": "code",
     "collapsed": false,
     "input": [
      "SAx.is_symmetric()"
     ],
     "language": "python",
     "outputs": [
      {
       "output_type": "pyout",
       "prompt_number": 38,
       "text": [
        "False"
       ]
      }
     ],
     "prompt_number": 38
    },
    {
     "cell_type": "code",
     "collapsed": true,
     "input": [
      "eq1 = SAx[1,0] - SAx[0,1]"
     ],
     "language": "python",
     "outputs": [],
     "prompt_number": 39
    },
    {
     "cell_type": "code",
     "collapsed": false,
     "input": [
      "eq1"
     ],
     "language": "python",
     "outputs": [
      {
       "latex": [
        "$$- \\gamma^{1}_{E} s_{01} - \\gamma^{2}_{E} s_{11} - \\gamma^{3}_{E} s_{12} + s_{05}$$"
       ],
       "output_type": "pyout",
       "png": "[encoded data removed]",
       "prompt_number": 40,
       "text": [
        "-\\gamma^1_E\u22c5s\u2080\u2081 - \\gamma^2_E\u22c5s\u2081\u2081 - \\gamma^3_E\u22c5s\u2081\u2082 + s\u2080\u2085"
       ]
      }
     ],
     "prompt_number": 40
    },
    {
     "cell_type": "code",
     "collapsed": false,
     "input": [
      "SAx[0,1]"
     ],
     "language": "python",
     "outputs": [
      {
       "latex": [
        "$$- s_{05}$$"
       ],
       "output_type": "pyout",
       "png": "[encoded data removed]",
       "prompt_number": 41,
       "text": [
        "-s\u2080\u2085"
       ]
      }
     ],
     "prompt_number": 41
    },
    {
     "cell_type": "code",
     "collapsed": false,
     "input": [
      "SAx[1,0]"
     ],
     "language": "python",
     "outputs": [
      {
       "latex": [
        "$$- \\gamma^{1}_{E} s_{01} - \\gamma^{2}_{E} s_{11} - \\gamma^{3}_{E} s_{12}$$"
       ],
       "output_type": "pyout",
       "png": "[encoded data removed]",
       "prompt_number": 42,
       "text": [
        "-\\gamma^1_E\u22c5s\u2080\u2081 - \\gamma^2_E\u22c5s\u2081\u2081 - \\gamma^3_E\u22c5s\u2081\u2082"
       ]
      }
     ],
     "prompt_number": 42
    },
    {
     "cell_type": "code",
     "collapsed": false,
     "input": [
      "diff = SAx - SAx.T",
      "diff"
     ],
     "language": "python",
     "outputs": [
      {
       "latex": [
        "$$\\left(\\begin{smallmatrix}0 & \\gamma^{1}_{E} s_{01} + \\gamma^{2}_{E} s_{11} + \\gamma^{3}_{E} s_{12} - s_{05} & \\gamma^{1}_{E} s_{02} + \\gamma^{2}_{E} s_{12} + \\gamma^{3}_{E} s_{22} + s_{04} & \\gamma^{1}_{E} s_{03} + \\gamma^{2}_{E} s_{13} + \\gamma^{3}_{E} s_{23} - \\mu^{1}_{B} s_{03} - \\mu^{2}_{B} s_{04} - \\mu^{3}_{B} s_{05} & \\gamma^{1}_{E} s_{04} + \\gamma^{2}_{E} s_{14} + \\gamma^{3}_{E} s_{24} + s_{02} & \\gamma^{1}_{E} s_{05} + \\gamma^{2}_{E} s_{15} + \\gamma^{3}_{E} s_{25} - s_{01}\\\\- \\gamma^{1}_{E} s_{01} - \\gamma^{2}_{E} s_{11} - \\gamma^{3}_{E} s_{12} + s_{05} & 0 & s_{14} + s_{25} & - \\mu^{1}_{B} s_{13} - \\mu^{2}_{B} s_{14} - \\mu^{3}_{B} s_{15} + s_{35} & s_{12} + s_{45} & - s_{11} + s_{55}\\\\- \\gamma^{1}_{E} s_{02} - \\gamma^{2}_{E} s_{12} - \\gamma^{3}_{E} s_{22} - s_{04} & - s_{14} - s_{25} & 0 & - \\mu^{1}_{B} s_{23} - \\mu^{2}_{B} s_{24} - \\mu^{3}_{B} s_{25} - s_{34} & s_{22} - s_{44} & - s_{12} - s_{45}\\\\- \\gamma^{1}_{E} s_{03} - \\gamma^{2}_{E} s_{13} - \\gamma^{3}_{E} s_{23} + \\mu^{1}_{B} s_{03} + \\mu^{2}_{B} s_{04} + \\mu^{3}_{B} s_{05} & \\mu^{1}_{B} s_{13} + \\mu^{2}_{B} s_{14} + \\mu^{3}_{B} s_{15} - s_{35} & \\mu^{1}_{B} s_{23} + \\mu^{2}_{B} s_{24} + \\mu^{3}_{B} s_{25} + s_{34} & 0 & \\mu^{1}_{B} s_{34} + \\mu^{2}_{B} s_{44} + \\mu^{3}_{B} s_{45} + s_{23} & \\mu^{1}_{B} s_{35} + \\mu^{2}_{B} s_{45} + \\mu^{3}_{B} s_{55} - s_{13}\\\\- \\gamma^{1}_{E} s_{04} - \\gamma^{2}_{E} s_{14} - \\gamma^{3}_{E} s_{24} - s_{02} & - s_{12} - s_{45} & - s_{22} + s_{44} & - \\mu^{1}_{B} s_{34} - \\mu^{2}_{B} s_{44} - \\mu^{3}_{B} s_{45} - s_{23} & 0 & - s_{14} - s_{25}\\\\- \\gamma^{1}_{E} s_{05} - \\gamma^{2}_{E} s_{15} - \\gamma^{3}_{E} s_{25} + s_{01} & s_{11} - s_{55} & s_{12} + s_{45} & - \\mu^{1}_{B} s_{35} - \\mu^{2}_{B} s_{45} - \\mu^{3}_{B} s_{55} + s_{13} & s_{14} + s_{25} & 0\\end{smallmatrix}\\right)$$"
       ],
       "output_type": "pyout",
       "prompt_number": 43,
       "text": [
        "",
        "\u23a1                                             0                               ",
        "\u23a2                                                                             ",
        "\u23a2                  -\\gamma^1_E\u22c5s\u2080\u2081 - \\gamma^2_E\u22c5s\u2081\u2081 - \\gamma^3_E\u22c5s\u2081\u2082 + s\u2080\u2085    ",
        "\u23a2                                                                             ",
        "\u23a2                  -\\gamma^1_E\u22c5s\u2080\u2082 - \\gamma^2_E\u22c5s\u2081\u2082 - \\gamma^3_E\u22c5s\u2082\u2082 - s\u2080\u2084    ",
        "\u23a2                                                                             ",
        "\u23a2-\\gamma^1_E\u22c5s\u2080\u2083 - \\gamma^2_E\u22c5s\u2081\u2083 - \\gamma^3_E\u22c5s\u2082\u2083 + \\mu^1_B\u22c5s\u2080\u2083 + \\mu^2_B\u22c5s\u2080\u2084",
        "\u23a2                                                                             ",
        "\u23a2                  -\\gamma^1_E\u22c5s\u2080\u2084 - \\gamma^2_E\u22c5s\u2081\u2084 - \\gamma^3_E\u22c5s\u2082\u2084 - s\u2080\u2082    ",
        "\u23a2                                                                             ",
        "\u23a3                  -\\gamma^1_E\u22c5s\u2080\u2085 - \\gamma^2_E\u22c5s\u2081\u2085 - \\gamma^3_E\u22c5s\u2082\u2085 + s\u2080\u2081    ",
        "",
        "                \\gamma^1_E\u22c5s\u2080\u2081 + \\gamma^2_E\u22c5s\u2081\u2081 + \\gamma^3_E\u22c5s\u2081\u2082 - s\u2080\u2085  \\gamma",
        "                                                                              ",
        "                                          0                                   ",
        "                                                                              ",
        "                                      -s\u2081\u2084 - s\u2082\u2085                              ",
        "                                                                              ",
        " + \\mu^3_B\u22c5s\u2080\u2085      \\mu^1_B\u22c5s\u2081\u2083 + \\mu^2_B\u22c5s\u2081\u2084 + \\mu^3_B\u22c5s\u2081\u2085 - s\u2083\u2085           \\m",
        "                                                                              ",
        "                                      -s\u2081\u2082 - s\u2084\u2085                              ",
        "                                                                              ",
        "                                      s\u2081\u2081 - s\u2085\u2085                               ",
        "",
        "^1_E\u22c5s\u2080\u2082 + \\gamma^2_E\u22c5s\u2081\u2082 + \\gamma^3_E\u22c5s\u2082\u2082 + s\u2080\u2084  \\gamma^1_E\u22c5s\u2080\u2083 + \\gamma^2_E\u22c5",
        "                                                                              ",
        "                s\u2081\u2084 + s\u2082\u2085                                               -\\mu^1",
        "                                                                              ",
        "                    0                                                   -\\mu^1",
        "                                                                              ",
        "u^1_B\u22c5s\u2082\u2083 + \\mu^2_B\u22c5s\u2082\u2084 + \\mu^3_B\u22c5s\u2082\u2085 + s\u2083\u2084                                   ",
        "                                                                              ",
        "                -s\u2082\u2082 + s\u2084\u2084                                              -\\mu^1",
        "                                                                              ",
        "                s\u2081\u2082 + s\u2084\u2085                                               -\\mu^1",
        "",
        "s\u2081\u2083 + \\gamma^3_E\u22c5s\u2082\u2083 - \\mu^1_B\u22c5s\u2080\u2083 - \\mu^2_B\u22c5s\u2080\u2084 - \\mu^3_B\u22c5s\u2080\u2085  \\gamma^1_E\u22c5s\u2080\u2084",
        "                                                                              ",
        "_B\u22c5s\u2081\u2083 - \\mu^2_B\u22c5s\u2081\u2084 - \\mu^3_B\u22c5s\u2081\u2085 + s\u2083\u2085                                      ",
        "                                                                              ",
        "_B\u22c5s\u2082\u2083 - \\mu^2_B\u22c5s\u2082\u2084 - \\mu^3_B\u22c5s\u2082\u2085 - s\u2083\u2084                                      ",
        "                                                                              ",
        "                0                                                   \\mu^1_B\u22c5s\u2083",
        "                                                                              ",
        "_B\u22c5s\u2083\u2084 - \\mu^2_B\u22c5s\u2084\u2084 - \\mu^3_B\u22c5s\u2084\u2085 - s\u2082\u2083                                      ",
        "                                                                              ",
        "_B\u22c5s\u2083\u2085 - \\mu^2_B\u22c5s\u2084\u2085 - \\mu^3_B\u22c5s\u2085\u2085 + s\u2081\u2083                                      ",
        "",
        " + \\gamma^2_E\u22c5s\u2081\u2084 + \\gamma^3_E\u22c5s\u2082\u2084 + s\u2080\u2082  \\gamma^1_E\u22c5s\u2080\u2085 + \\gamma^2_E\u22c5s\u2081\u2085 + \\g",
        "                                                                              ",
        "        s\u2081\u2082 + s\u2084\u2085                                               -s\u2081\u2081 + s\u2085\u2085    ",
        "                                                                              ",
        "        s\u2082\u2082 - s\u2084\u2084                                               -s\u2081\u2082 - s\u2084\u2085    ",
        "                                                                              ",
        "\u2084 + \\mu^2_B\u22c5s\u2084\u2084 + \\mu^3_B\u22c5s\u2084\u2085 + s\u2082\u2083           \\mu^1_B\u22c5s\u2083\u2085 + \\mu^2_B\u22c5s\u2084\u2085 + \\mu^",
        "                                                                              ",
        "            0                                                   -s\u2081\u2084 - s\u2082\u2085    ",
        "                                                                              ",
        "        s\u2081\u2084 + s\u2082\u2085                                                   0         ",
        "",
        "amma^3_E\u22c5s\u2082\u2085 - s\u2080\u2081\u23a4",
        "                  \u23a5",
        "                  \u23a5",
        "                  \u23a5",
        "                  \u23a5",
        "                  \u23a5",
        "3_B\u22c5s\u2085\u2085 - s\u2081\u2083     \u23a5",
        "                  \u23a5",
        "                  \u23a5",
        "                  \u23a5",
        "                  \u23a6"
       ]
      }
     ],
     "prompt_number": 43
    },
    {
     "cell_type": "code",
     "collapsed": false,
     "input": [
      "for j in range(6):",
      "    for i in range(1,6):",
      "        if i > j:",
      "            print diff[i,j]",
      "            ",
      "            "
     ],
     "language": "python",
     "outputs": [
      {
       "output_type": "stream",
       "stream": "stdout",
       "text": [
        "-\\gamma_E^1*s_01 - \\gamma_E^2*s_11 - \\gamma_E^3*s_12 + s_05",
        "-\\gamma_E^1*s_02 - \\gamma_E^2*s_12 - \\gamma_E^3*s_22 - s_04",
        "-\\gamma_E^1*s_03 - \\gamma_E^2*s_13 - \\gamma_E^3*s_23 + \\mu_B^1*s_03 + \\mu_B^2*s_04 + \\mu_B^3*s_05",
        "-\\gamma_E^1*s_04 - \\gamma_E^2*s_14 - \\gamma_E^3*s_24 - s_02",
        "-\\gamma_E^1*s_05 - \\gamma_E^2*s_15 - \\gamma_E^3*s_25 + s_01",
        "-s_14 - s_25",
        "\\mu_B^1*s_13 + \\mu_B^2*s_14 + \\mu_B^3*s_15 - s_35",
        "-s_12 - s_45",
        "s_11 - s_55",
        "\\mu_B^1*s_23 + \\mu_B^2*s_24 + \\mu_B^3*s_25 + s_34",
        "-s_22 + s_44",
        "s_12 + s_45",
        "-\\mu_B^1*s_34 - \\mu_B^2*s_44 - \\mu_B^3*s_45 - s_23",
        "-\\mu_B^1*s_35 - \\mu_B^2*s_45 - \\mu_B^3*s_55 + s_13",
        "s_14 + s_25"
       ]
      }
     ],
     "prompt_number": 44
    },
    {
     "cell_type": "markdown",
     "source": [
      "Now I label the equations which need to be solved for the $s_{AB}$ that appear in the $13$ expressions above. There is",
      "probably a more elegant way to do it in python/sympy but I just cut and paste the above expressions and assign them",
      "to the $eq1, ..., eq15$:"
     ]
    },
    {
     "cell_type": "code",
     "collapsed": false,
     "input": [
      "Eqs = (eq1,eq2,eq3,eq4,eq5,eq6,eq7,eq8,eq9,eq10,eq11,eq12,eq13,eq14,eq15)"
     ],
     "language": "python",
     "outputs": [
      {
       "ename": "NameError",
       "evalue": "name 'eq2' is not defined",
       "output_type": "pyerr",
       "traceback": [
        "\u001b[0;31m---------------------------------------------------------------------------\u001b[0m\n\u001b[0;31mNameError\u001b[0m                                 Traceback (most recent call last)",
        "\u001b[0;32m/Users/comerduncan/comeripy/notebooks/<ipython-input-45-4ec94dba1957>\u001b[0m in \u001b[0;36m<module>\u001b[0;34m()\u001b[0m\n\u001b[0;32m----> 1\u001b[0;31m \u001b[0mEqs\u001b[0m \u001b[0;34m=\u001b[0m \u001b[0;34m(\u001b[0m\u001b[0meq1\u001b[0m\u001b[0;34m,\u001b[0m\u001b[0meq2\u001b[0m\u001b[0;34m,\u001b[0m\u001b[0meq3\u001b[0m\u001b[0;34m,\u001b[0m\u001b[0meq4\u001b[0m\u001b[0;34m,\u001b[0m\u001b[0meq5\u001b[0m\u001b[0;34m,\u001b[0m\u001b[0meq6\u001b[0m\u001b[0;34m,\u001b[0m\u001b[0meq7\u001b[0m\u001b[0;34m,\u001b[0m\u001b[0meq8\u001b[0m\u001b[0;34m,\u001b[0m\u001b[0meq9\u001b[0m\u001b[0;34m,\u001b[0m\u001b[0meq10\u001b[0m\u001b[0;34m,\u001b[0m\u001b[0meq11\u001b[0m\u001b[0;34m,\u001b[0m\u001b[0meq12\u001b[0m\u001b[0;34m,\u001b[0m\u001b[0meq13\u001b[0m\u001b[0;34m,\u001b[0m\u001b[0meq14\u001b[0m\u001b[0;34m,\u001b[0m\u001b[0meq15\u001b[0m\u001b[0;34m)\u001b[0m\u001b[0;34m\u001b[0m\u001b[0m\n\u001b[0m",
        "\u001b[0;31mNameError\u001b[0m: name 'eq2' is not defined"
       ]
      }
     ],
     "prompt_number": 45
    },
    {
     "cell_type": "code",
     "collapsed": false,
     "input": [
      "variables = (s_00,s_01,s_02,s_03,s_04,s_05,s_11,s_12,s_13,s_14,s_22,s_23,s_33,s_34,s_35)"
     ],
     "language": "python",
     "outputs": []
    },
    {
     "cell_type": "code",
     "collapsed": true,
     "input": [
      "Symmetrizer_solutions = solve(Eqs,variables)"
     ],
     "language": "python",
     "outputs": []
    },
    {
     "cell_type": "code",
     "collapsed": false,
     "input": [
      "len(Symmetrizer_solutions)"
     ],
     "language": "python",
     "outputs": []
    },
    {
     "cell_type": "code",
     "collapsed": false,
     "input": [],
     "language": "python",
     "outputs": []
    },
    {
     "cell_type": "code",
     "collapsed": true,
     "input": [
      "sols = Symmetrizer_solutions"
     ],
     "language": "python",
     "outputs": []
    },
    {
     "cell_type": "code",
     "collapsed": false,
     "input": [
      "solsvals =sols.values()"
     ],
     "language": "python",
     "outputs": []
    },
    {
     "cell_type": "code",
     "collapsed": false,
     "input": [
      "print solsvals[11]"
     ],
     "language": "python",
     "outputs": []
    },
    {
     "cell_type": "markdown",
     "source": [
      "$$",
      "s_12 = (\\gamma_E^3 \\mu_B^1 s_05 - \\mu_B^1 s_45 + \\mu_B^2 s_35)/\\mu_B^1 \\\\\\\\",
      "s_22 = (\\gamma_E^2 \\mu_B^1 \\mu_B^3 s_44 - \\gamma_E^2 \\mu_B^2^{2} s_35 + \\gamma_E^3**2*\\mu_B^1*\\mu_B^3*s_05)/(\\gamma_E^2*\\mu_B^1*\\mu_B^3) \\\\\\",
      "s_34 = \\mu_B^2*s_35/\\mu_B^3 \\\\\\\\",
      "s_11 = (\\gamma_E^2*\\mu_B^1*s_05 + \\mu_B^1*s_55 - \\mu_B^3*s_35)/\\mu_B^1 \\\\\\\\",
      "s_23 = -\\mu_B^2*s_35/(\\mu_B^1*\\mu_B^3) \\\\\\\\",
      "s_14 = -s_25 \\\\\\\\",
      "s_02 = \\gamma_E^1*\\gamma_E^3*s_05/\\gamma_E^2 \\\\\\\\",
      "s_04 = -\\gamma_E^3*s_05/\\gamma_E^2 \\\\\\\\",
      "s_33 = s_35*(\\mu_B^1**2 - 1)/(\\mu_B^1*\\mu_B^3) \\\\\\\\",
      "s_03 = 0 \\\\\\\\",
      "s_13 = s_35/\\mu_B^1 \\\\\\\\",
      "s_00 = s_05*(\\gamma_E^1**2 - 1)/\\gamma_E^2 \\\\\\\\",
      "s_01 = \\gamma_E^1*s_05 \\\\\\\\",
      "",
      "$$"
     ]
    },
    {
     "cell_type": "markdown",
     "source": [
      "$$ s_{12} = \\frac{\\gamma_E^3*\\mu_B^1*s_{05} - \\mu_B^1*s_{45} + \\mu_B^2*s_{35})}{\\mu_B^1} $$"
     ]
    },
    {
     "cell_type": "markdown",
     "source": [
      "##Do $C_E$ and $C_B$ satisfy wave equations?",
      "",
      "Here I record some thoughts on wave equations for the two constraint violation objects $C_E$ and $C_B$, since ",
      "with the case of other formulations which use the vector potential rather than the physical fields, it can",
      "be shown that these two objects satisfy wave equations (need refs).  ",
      "",
      "Considering the advection equations for $C_E$ and $C_B$ discussed above, I believe that the simplest",
      "approach is to assume that the parameters $\\mu_{E}^{j}$ and $\\gamma_{B}^{j}$ are zero. Note that they do ",
      "not appear in the consideration of the hyperbolicity of the modified Maxwell system.  So assuming this, ",
      "the two advection equations become:",
      "",
      "$$\\rm{\\partial_{0} C_{E} = \\gamma_{E}^{k} \\partial_{k} C_{E}  -\\left( \\partial_{0} J^{0}",
      "+ \\partial_{k} J^{k} \\right)} $$",
      "",
      "",
      "",
      "$$ \\rm{\\partial_{0} C_{B} =   \\mu_{B}^{k} \\partial_{k} C_{B} }$$",
      "",
      "Then it is a simple matter to dervive wave equations for the two, which I record here:",
      "",
      "$$ - \\partial_{0} \\partial_{0} C_{E} + \\gamma_{E}^{k} \\gamma_{E}^{l} \\partial_{k} \\partial_{l} C_{E} =",
      "\\partial_{0} Z + \\gamma_{E}^{k} \\partial_{k} Z$$",
      "",
      "where I have put $\\; Z = \\partial_{a} J^{a}$, and ",
      "",
      "$$ - \\partial_{0} \\partial_{0} C_{B} + \\mu_{B}^{k} \\mu_{B}^{l} \\partial_{k} \\partial_{l} C_{B} = 0$$",
      "",
      "Note that the speeds at which the constraint violations propagate are the $\\gamma{E}{k}$ and ",
      "$\\mu{B}{k}$ which are not equal in general. However, suppose I asssume that the speeds are such that",
      "",
      "$$\\gamma_{E}^{k} \\gamma_{E}^{l} = \\gamma^{2}\\delta^{kl}$$",
      "",
      "and ",
      "",
      "$$\\mu_{B}^{k} \\mu_{B}^{l} = \\mu^{2}\\delta^{kl}$$",
      "",
      "Then the constraint violations would propagate at speeds $\\gamma$ and $\\mu$ and thus propagate isotropically.",
      "Without this assumption I would be allowing constraint violations to propagate at different speeds in ",
      "different directions.  So if constraint violations occur and propagate aniostropically violations which",
      "strike the domain boundaries would do so at  different times in different directions. Unless these violations",
      "can be advected out of the domain, they would reflect back into the interior and inducd effects on the",
      "physical fields.  Since this would introduce aniotropy where there is none in the physics, this ",
      "could pollute the system.  ",
      "",
      "A further requirement comes from the necessity that nothing be allowed to escape the domain of dependence ",
      "of the Maxwell system.  This would seem to require that the parameters $\\gamma$ and $\\mu$ above not be ",
      "greater that 1.  So we tentatively require $\\gamma \\le 1 $ and $\\mu \\le 1 $. Thus the final form of the wave",
      "equations for $C_E$ and $C_B$ are:",
      "",
      "$$ - \\partial_{0} \\partial_{0} C_{E} + \\gamma^{2}  \\nabla^{2} C_{E} =",
      "\\partial_{0} Z + \\gamma_{E}^{k} \\partial_{k} Z$$",
      "",
      "where I have put $\\; Z = \\partial_{a} J^{a}$, and ",
      "",
      "$$ - \\partial_{0} \\partial_{0} C_{B} + \\mu^{2}  \\nabla^{2} C_{B} = 0$$",
      "",
      ""
     ]
    },
    {
     "cell_type": "code",
     "collapsed": true,
     "input": [],
     "language": "python",
     "outputs": []
    }
   ]
  }
 ]
}